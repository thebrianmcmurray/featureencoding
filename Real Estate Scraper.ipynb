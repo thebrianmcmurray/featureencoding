{
 "cells": [
  {
   "cell_type": "code",
   "execution_count": 2,
   "metadata": {},
   "outputs": [],
   "source": [
    "import requests\n",
    "from bs4 import BeautifulSoup\n",
    "import pandas as pd\n",
    "import numpy as np\n",
    "from tqdm import tqdm_notebook as tqdm\n",
    "import time\n",
    "\n",
    "tqdm.monitor_interval = 0"
   ]
  },
  {
   "cell_type": "code",
   "execution_count": 193,
   "metadata": {},
   "outputs": [],
   "source": [
    "# Base search parameters\n",
    "payload = {\"from\": \"advanced\", \"SelectSearchBy\": \"city\",\n",
    "           \"SEARCH_state[CA]\": \"CA\", \n",
    "           \"SEARCH_county[Sonoma County]\": \"Sonoma County\",\n",
    "           \"SEARCH_city[Rohnert Park]\": \"Rohnert Park\",\n",
    "           \"SEARCH_city[Cotati]\": \"Cotati\",\n",
    "           \"SEARCH_city[Santa Rosa]\": \"Santa Rosa\",\n",
    "           \"SEARCH_city[Windsor]\": \"Windsor\",\n",
    "           \"SEARCH_city[Healdsburg]\": \"Healdsburg\",\n",
    "           \"SEARCH_city[Petaluma]\": \"Petaluma\",\n",
    "           \"SEARCH_status[S]\": \"S\",\n",
    "           \"SEARCH_sold_date_range\": \"3_yr\",\n",
    "           \"SEARCH_type[Single Family Home]\": \"Single Family Home\",\n",
    "           \"SEARCH_type[Condo/Townhouse]\": \"Condo/Townhouse\",\n",
    "           \"SEARCH_bedrooms\": \"0\",\n",
    "           \"SEARCH_baths\": \"0\",\n",
    "           \"SEARCH_minprice\": \"0\",\n",
    "           \"SEARCH_maxprice\": \"0\",\n",
    "           \"SEARCH_lotsize\": \"0\",\n",
    "           \"SEARCH_rooms\": \"0\",\n",
    "           \"SEARCH_sqft\": \"0\",\n",
    "           \"SEARCH_units\": \"0\",\n",
    "           \"SEARCH_maxyear_built\": \"0\",\n",
    "           \"SEARCH_minyear_built\": \"0\"\n",
    "          }\n",
    "\n",
    "# Headers to ensure consistent page encoding\n",
    "headers = {\n",
    "    'User-Agent': 'Mozilla/5.0 (Macintosh; Intel Mac OS X 10_10_1) AppleWebKit/537.36 (KHTML, like Gecko) Chrome/39.0.2171.95 Safari/537.36'\n",
    "}\n",
    "\n",
    "# Base URL for the search query. Removed site due to changes in their site terms and robots.txt\n",
    "search_url = \"REMOVED\""
   ]
  },
  {
   "cell_type": "code",
   "execution_count": 187,
   "metadata": {},
   "outputs": [],
   "source": [
    "# Instantiate the requests instance\n",
    "session = requests.Session(headers=headers)"
   ]
  },
  {
   "cell_type": "code",
   "execution_count": 194,
   "metadata": {},
   "outputs": [],
   "source": [
    "# Submit search query and load the initial page\n",
    "page = session.post(search_url, data=payload, headers=headers)\n",
    "soup = BeautifulSoup(page.content, 'html.parser')"
   ]
  },
  {
   "cell_type": "code",
   "execution_count": null,
   "metadata": {},
   "outputs": [],
   "source": [
    "# Validating the site page content\n",
    "soup"
   ]
  },
  {
   "cell_type": "code",
   "execution_count": 53,
   "metadata": {},
   "outputs": [],
   "source": [
    "# Additional URLs that were used for testing\n",
    "base_url = \"REMOVED\"\n",
    "target_url = \"REMOVED\""
   ]
  },
  {
   "cell_type": "code",
   "execution_count": 196,
   "metadata": {},
   "outputs": [],
   "source": [
    "# Validating the results from the additional tests\n",
    "page = requests.get(target_url)\n",
    "soup = BeautifulSoup(page.content, 'html.parser')"
   ]
  },
  {
   "cell_type": "code",
   "execution_count": 127,
   "metadata": {},
   "outputs": [
    {
     "data": {
      "text/plain": [
       "[<li class=\"listing-feature\"><b>Property Type:</b> Commercial Lease</li>,\n",
       " <li class=\"listing-feature\"><b>Sub Type:</b> Mixed Use</li>,\n",
       " <li class=\"listing-feature\"><b>Listing Status:</b> Active</li>,\n",
       " <li class=\"listing-feature\"><b>County/Area:</b> Solano County</li>,\n",
       " <li class=\"listing-feature\"><b>Zip Code:</b> 94590</li>,\n",
       " <li class=\"listing-feature\"><b>Year Built:</b> 1950</li>,\n",
       " <li class=\"listing-feature\"><b>Sq.Ft.:</b> 4,100 sq ft</li>,\n",
       " <li class=\"listing-feature\"><b>Stories:</b> 1 Story</li>,\n",
       " <li class=\"listing-feature\"><b>Lot Size:</b> 0.65 acres</li>,\n",
       " <li class=\"listing-feature\"><b>Accessibility:</b> Doors, Parking</li>,\n",
       " <li class=\"listing-feature\"><b>Zoning:</b> Commercial</li>,\n",
       " <li class=\"listing-feature\"><b>Area:</b> Vallejo 4</li>,\n",
       " <li class=\"listing-feature\"><b># of Buildings:</b> 1</li>,\n",
       " <li class=\"listing-feature\"><b>Ceilings:</b> 12'-18'</li>,\n",
       " <li class=\"listing-feature\"><b>Close To:</b> Freeway, Public Transportatio, Restaurants</li>,\n",
       " <li class=\"listing-feature\"><b>Condition:</b> Exterior-Good, Exterior-Excellent</li>,\n",
       " <li class=\"listing-feature\"><b>Drainage:</b> Storm Drain</li>,\n",
       " <li class=\"listing-feature\"><b>Exterior:</b> Masonry</li>,\n",
       " <li class=\"listing-feature\"><b>Floors:</b> Concrete Slab</li>,\n",
       " <li class=\"listing-feature\"><b>Foundation:</b> Slab</li>,\n",
       " <li class=\"listing-feature\"><b>Height Limit:</b> 16</li>,\n",
       " <li class=\"listing-feature\"><b>Lease/Term:</b> 5 Years</li>,\n",
       " <li class=\"listing-feature\"><b>Lessee Pays:</b> LESEE PAY $1.60 QSFT AND WILL INCREASE 3% ANNUALLY</li>,\n",
       " <li class=\"listing-feature\"><b>Loading:</b> Clear 8-12'</li>,\n",
       " <li class=\"listing-feature\"><b>Location:</b> Strip Center</li>,\n",
       " <li class=\"listing-feature\"><b>Lot Description:</b> Corner</li>,\n",
       " <li class=\"listing-feature\"><b>Lot Measurement:</b> Acres</li>,\n",
       " <li class=\"listing-feature\"><b>Lot Size [SqFt]:</b> 28148.00</li>,\n",
       " <li class=\"listing-feature\"><b>Maximum Lease (Yrs):</b> 5</li>,\n",
       " <li class=\"listing-feature\"><b>Minimum Lease (Yrs):</b> 5</li>,\n",
       " <li class=\"listing-feature\"><b>Parking:</b> 11-25 On Site</li>,\n",
       " <li class=\"listing-feature\"><b>Road Frontage:</b> City Street</li>,\n",
       " <li class=\"listing-feature\"><b>Roof:</b> Tar &amp; Gravel</li>,\n",
       " <li class=\"listing-feature\"><b>Sale/Lease-Rent:</b> Lease</li>,\n",
       " <li class=\"listing-feature\"><b>Sewer/Septic:</b> Sewer Public</li>,\n",
       " <li class=\"listing-feature\"><b>Square Footage Source:</b> Owner</li>,\n",
       " <li class=\"listing-feature\"><b>Status Date:</b> 2019-01-14</li>,\n",
       " <li class=\"listing-feature\"><b>Structures:</b> Mixed Use Bldg</li>,\n",
       " <li class=\"listing-feature\"><b>Tenant Sq Ft:</b> 4100.00</li>,\n",
       " <li class=\"listing-feature\"><b>Utilities:</b> 3 Phase, 400 or More Amps</li>,\n",
       " <li class=\"listing-feature\"><b>Walls:</b> CC Blk</li>,\n",
       " <li class=\"listing-feature\"><b>Water Source:</b> Water Private</li>,\n",
       " <li class=\"listing-feature\"><b>Year Built Source:</b> Realist Public Rec</li>]"
      ]
     },
     "execution_count": 127,
     "metadata": {},
     "output_type": "execute_result"
    }
   ],
   "source": [
    "# Review the listing features and their format\n",
    "soup.findAll('li', {'class': 'listing-feature'})"
   ]
  },
  {
   "cell_type": "code",
   "execution_count": null,
   "metadata": {},
   "outputs": [],
   "source": [
    "\"\"\"\n",
    "Listing addresses were initially collected during dataset \n",
    "creation for manual data validation, but were not used in\n",
    "the actual analysis.\n",
    "\"\"\"\n",
    "\n",
    "# Blank dataframe to save data to\n",
    "data = pd.DataFrame()\n",
    "\n",
    "breakNext = False\n",
    "i = 0\n",
    "start_time = time.time()\n",
    "\n",
    "while True:\n",
    "    page = session.get(target_url, headers=headers)\n",
    "    soup = BeautifulSoup(page.content, 'html.parser')\n",
    "    \n",
    "    if len(soup.findAll('a', {'class': 'next'})) == 0:\n",
    "        breakNext = True\n",
    "    \n",
    "    targetURL = (base_url + soup.findAll('a', {'class': 'next'})[0]['href'])\n",
    "    features = soup.findAll('li', {'class': 'listing-feature'})\n",
    "    \n",
    "    if len(soup.findAll('a', {'class': 'listing-street-address'})):\n",
    "        data.loc[i, 'StreetAddress'] = \\\n",
    "            soup.findAll('a', {'class': 'listing-street-address'})[0].text\n",
    "    \n",
    "    if len(soup.findAll('a', {'class': 'listing-address-city'})):\n",
    "        data.loc[i, 'City'] = \\\n",
    "            soup.findAll('a', {'class': 'listing-address-city'})[0].text\n",
    "        \n",
    "    if len(soup.findAll('span', {'class': 'listing-mls-number mls-number'})):\n",
    "        data.loc[i, 'MLS'] = \\\n",
    "            soup.findAll('span', \n",
    "                         {'class': 'listing-mls-number mls-number'})[0].text.split(\"#\")[1]\n",
    "        \n",
    "    \"\"\"\n",
    "    Automatically create new features based on which listing-features are included.\n",
    "    The resulting columns will need to be cleaned up as a result of this method,\n",
    "    but it ensures all fields are captured. The site had inconsistent features\n",
    "    for different listings. Dealing with many unique features works well for the\n",
    "    purpose of this paper.\n",
    "    \"\"\"\n",
    "    for feature in features:\n",
    "        data.loc[i, feature.text.split(':')[0]] = feature.text.split(':')[1]\n",
    "    \n",
    "    # Save a copy of the dataset every 100 iterations\n",
    "    if i % 100 == 0:\n",
    "        data.to_csv('housingData.csv')\n",
    "        elapsed_time = time.time() - start_time\n",
    "        print(\"Iteration: \", i, \n",
    "              \"Iteration Time: \", \n",
    "              elapsed_time, \" Data Shape: \", \n",
    "              data.shape)\n",
    "        start_time = time.time()\n",
    "    \n",
    "    i+=1\n",
    "    if breakNext:\n",
    "        break"
   ]
  },
  {
   "cell_type": "code",
   "execution_count": 200,
   "metadata": {},
   "outputs": [],
   "source": [
    "data.to_csv('housingData.csv')"
   ]
  },
  {
   "cell_type": "code",
   "execution_count": 219,
   "metadata": {},
   "outputs": [
    {
     "name": "stderr",
     "output_type": "stream",
     "text": [
      "c:\\anaconda3\\envs\\py36\\lib\\site-packages\\IPython\\core\\interactiveshell.py:2785: DtypeWarning: Columns (116) have mixed types. Specify dtype option on import or set low_memory=False.\n",
      "  interactivity=interactivity, compiler=compiler, result=result)\n"
     ]
    }
   ],
   "source": [
    "# Exporting table for LaTeX\n",
    "with open('mytable.tex','w') as tf:\n",
    "    tf.write(pd.read_csv('housingData.csv', index_col=0, parse_dates=['Sold Date']).head(2).transpose().to_latex())"
   ]
  }
 ],
 "metadata": {
  "kernelspec": {
   "display_name": "Python 3",
   "language": "python",
   "name": "python3"
  },
  "language_info": {
   "codemirror_mode": {
    "name": "ipython",
    "version": 3
   },
   "file_extension": ".py",
   "mimetype": "text/x-python",
   "name": "python",
   "nbconvert_exporter": "python",
   "pygments_lexer": "ipython3",
   "version": "3.6.10"
  }
 },
 "nbformat": 4,
 "nbformat_minor": 2
}
